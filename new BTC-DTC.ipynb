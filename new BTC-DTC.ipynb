{
 "cells": [
  {
   "cell_type": "markdown",
   "id": "f304fce2",
   "metadata": {},
   "source": [
    "Install the yfinance package, which is the downloader connected with the Yahoo Fiannce API."
   ]
  },
  {
   "cell_type": "code",
   "execution_count": 590,
   "id": "1dc9818f",
   "metadata": {},
   "outputs": [
    {
     "name": "stdout",
     "output_type": "stream",
     "text": [
      "Requirement already satisfied: yfinance in ./opt/anaconda3/lib/python3.9/site-packages (0.1.87)\n",
      "Requirement already satisfied: numpy>=1.15 in ./opt/anaconda3/lib/python3.9/site-packages (from yfinance) (1.21.5)\n",
      "Requirement already satisfied: lxml>=4.5.1 in ./opt/anaconda3/lib/python3.9/site-packages (from yfinance) (4.9.1)\n",
      "Requirement already satisfied: multitasking>=0.0.7 in ./opt/anaconda3/lib/python3.9/site-packages (from yfinance) (0.0.11)\n",
      "Requirement already satisfied: pandas>=0.24.0 in ./opt/anaconda3/lib/python3.9/site-packages (from yfinance) (1.4.4)\n",
      "Requirement already satisfied: requests>=2.26 in ./opt/anaconda3/lib/python3.9/site-packages (from yfinance) (2.28.1)\n",
      "Requirement already satisfied: appdirs>=1.4.4 in ./opt/anaconda3/lib/python3.9/site-packages (from yfinance) (1.4.4)\n",
      "Requirement already satisfied: python-dateutil>=2.8.1 in ./opt/anaconda3/lib/python3.9/site-packages (from pandas>=0.24.0->yfinance) (2.8.2)\n",
      "Requirement already satisfied: pytz>=2020.1 in ./opt/anaconda3/lib/python3.9/site-packages (from pandas>=0.24.0->yfinance) (2022.1)\n",
      "Requirement already satisfied: charset-normalizer<3,>=2 in ./opt/anaconda3/lib/python3.9/site-packages (from requests>=2.26->yfinance) (2.0.4)\n",
      "Requirement already satisfied: idna<4,>=2.5 in ./opt/anaconda3/lib/python3.9/site-packages (from requests>=2.26->yfinance) (3.3)\n",
      "Requirement already satisfied: urllib3<1.27,>=1.21.1 in ./opt/anaconda3/lib/python3.9/site-packages (from requests>=2.26->yfinance) (1.26.11)\n",
      "Requirement already satisfied: certifi>=2017.4.17 in ./opt/anaconda3/lib/python3.9/site-packages (from requests>=2.26->yfinance) (2022.9.24)\n",
      "Requirement already satisfied: six>=1.5 in ./opt/anaconda3/lib/python3.9/site-packages (from python-dateutil>=2.8.1->pandas>=0.24.0->yfinance) (1.16.0)\n",
      "Note: you may need to restart the kernel to use updated packages.\n"
     ]
    }
   ],
   "source": [
    "pip install yfinance"
   ]
  },
  {
   "cell_type": "code",
   "execution_count": 591,
   "id": "573462a8",
   "metadata": {},
   "outputs": [],
   "source": [
    "import yfinance as yf\n",
    "import numpy as np\n",
    "import pandas as pd\n",
    "import matplotlib as mpl"
   ]
  },
  {
   "cell_type": "markdown",
   "id": "ed1e75c9",
   "metadata": {},
   "source": [
    "##   1a. Major crypto currency chosen:Bitcoin-usd"
   ]
  },
  {
   "cell_type": "markdown",
   "id": "cc2a0fc7",
   "metadata": {},
   "source": [
    "   1b. Download btc-usd daily historical two years data and save it as btc-usd pandas data frame"
   ]
  },
  {
   "cell_type": "code",
   "execution_count": 592,
   "id": "61958206",
   "metadata": {},
   "outputs": [
    {
     "name": "stdout",
     "output_type": "stream",
     "text": [
      "[*********************100%***********************]  1 of 1 completed\n"
     ]
    }
   ],
   "source": [
    "initial_data = yf.download(\"BTC-USD\", start=\"2020-12-04\", end=\"2022-12-04\")"
   ]
  },
  {
   "cell_type": "code",
   "execution_count": 593,
   "id": "0a8527ea",
   "metadata": {},
   "outputs": [
    {
     "data": {
      "text/html": [
       "<div>\n",
       "<style scoped>\n",
       "    .dataframe tbody tr th:only-of-type {\n",
       "        vertical-align: middle;\n",
       "    }\n",
       "\n",
       "    .dataframe tbody tr th {\n",
       "        vertical-align: top;\n",
       "    }\n",
       "\n",
       "    .dataframe thead th {\n",
       "        text-align: right;\n",
       "    }\n",
       "</style>\n",
       "<table border=\"1\" class=\"dataframe\">\n",
       "  <thead>\n",
       "    <tr style=\"text-align: right;\">\n",
       "      <th></th>\n",
       "      <th>Open</th>\n",
       "      <th>High</th>\n",
       "      <th>Low</th>\n",
       "      <th>Close</th>\n",
       "      <th>Adj Close</th>\n",
       "      <th>Volume</th>\n",
       "    </tr>\n",
       "    <tr>\n",
       "      <th>Date</th>\n",
       "      <th></th>\n",
       "      <th></th>\n",
       "      <th></th>\n",
       "      <th></th>\n",
       "      <th></th>\n",
       "      <th></th>\n",
       "    </tr>\n",
       "  </thead>\n",
       "  <tbody>\n",
       "    <tr>\n",
       "      <th>2020-12-04</th>\n",
       "      <td>19446.966797</td>\n",
       "      <td>19511.404297</td>\n",
       "      <td>18697.193359</td>\n",
       "      <td>18699.765625</td>\n",
       "      <td>18699.765625</td>\n",
       "      <td>33872388058</td>\n",
       "    </tr>\n",
       "    <tr>\n",
       "      <th>2020-12-05</th>\n",
       "      <td>18698.384766</td>\n",
       "      <td>19160.449219</td>\n",
       "      <td>18590.193359</td>\n",
       "      <td>19154.230469</td>\n",
       "      <td>19154.230469</td>\n",
       "      <td>27242455064</td>\n",
       "    </tr>\n",
       "    <tr>\n",
       "      <th>2020-12-06</th>\n",
       "      <td>19154.179688</td>\n",
       "      <td>19390.500000</td>\n",
       "      <td>18897.894531</td>\n",
       "      <td>19345.121094</td>\n",
       "      <td>19345.121094</td>\n",
       "      <td>25293775714</td>\n",
       "    </tr>\n",
       "    <tr>\n",
       "      <th>2020-12-07</th>\n",
       "      <td>19343.128906</td>\n",
       "      <td>19411.828125</td>\n",
       "      <td>18931.142578</td>\n",
       "      <td>19191.630859</td>\n",
       "      <td>19191.630859</td>\n",
       "      <td>26896357742</td>\n",
       "    </tr>\n",
       "    <tr>\n",
       "      <th>2020-12-08</th>\n",
       "      <td>19191.529297</td>\n",
       "      <td>19283.478516</td>\n",
       "      <td>18269.945312</td>\n",
       "      <td>18321.144531</td>\n",
       "      <td>18321.144531</td>\n",
       "      <td>31692288756</td>\n",
       "    </tr>\n",
       "  </tbody>\n",
       "</table>\n",
       "</div>"
      ],
      "text/plain": [
       "                    Open          High           Low         Close  \\\n",
       "Date                                                                 \n",
       "2020-12-04  19446.966797  19511.404297  18697.193359  18699.765625   \n",
       "2020-12-05  18698.384766  19160.449219  18590.193359  19154.230469   \n",
       "2020-12-06  19154.179688  19390.500000  18897.894531  19345.121094   \n",
       "2020-12-07  19343.128906  19411.828125  18931.142578  19191.630859   \n",
       "2020-12-08  19191.529297  19283.478516  18269.945312  18321.144531   \n",
       "\n",
       "               Adj Close       Volume  \n",
       "Date                                   \n",
       "2020-12-04  18699.765625  33872388058  \n",
       "2020-12-05  19154.230469  27242455064  \n",
       "2020-12-06  19345.121094  25293775714  \n",
       "2020-12-07  19191.630859  26896357742  \n",
       "2020-12-08  18321.144531  31692288756  "
      ]
     },
     "execution_count": 593,
     "metadata": {},
     "output_type": "execute_result"
    }
   ],
   "source": [
    "initial_data.head()"
   ]
  },
  {
   "cell_type": "code",
   "execution_count": 594,
   "id": "6387a199",
   "metadata": {},
   "outputs": [
    {
     "data": {
      "text/plain": [
       "Date\n",
       "2020-12-04    18699.765625\n",
       "2020-12-05    19154.230469\n",
       "2020-12-06    19345.121094\n",
       "2020-12-07    19191.630859\n",
       "2020-12-08    18321.144531\n",
       "Name: Adj Close, dtype: float64"
      ]
     },
     "execution_count": 594,
     "metadata": {},
     "output_type": "execute_result"
    }
   ],
   "source": [
    "initial_data['Adj Close'].head()"
   ]
  },
  {
   "cell_type": "markdown",
   "id": "f4694a7e",
   "metadata": {},
   "source": [
    "adjusted close price"
   ]
  },
  {
   "cell_type": "code",
   "execution_count": 595,
   "id": "963409a6",
   "metadata": {},
   "outputs": [
    {
     "name": "stdout",
     "output_type": "stream",
     "text": [
      "<class 'pandas.core.series.Series'>\n",
      "DatetimeIndex: 730 entries, 2020-12-04 to 2022-12-03\n",
      "Series name: Adj Close\n",
      "Non-Null Count  Dtype  \n",
      "--------------  -----  \n",
      "730 non-null    float64\n",
      "dtypes: float64(1)\n",
      "memory usage: 11.4 KB\n"
     ]
    }
   ],
   "source": [
    "data =  initial_data['Adj Close']\n",
    "data.info()"
   ]
  },
  {
   "cell_type": "markdown",
   "id": "251a3179",
   "metadata": {},
   "source": [
    "plotting the movement/shape of BTC-USD from November 2020 to November 2022 and subsequently calculating its \n",
    "annualised volatility"
   ]
  },
  {
   "cell_type": "markdown",
   "id": "ba1dfbae",
   "metadata": {},
   "source": [
    "fig 1.0"
   ]
  },
  {
   "cell_type": "code",
   "execution_count": 596,
   "id": "71afcea6",
   "metadata": {},
   "outputs": [
    {
     "data": {
      "text/plain": [
       "array([<AxesSubplot:xlabel='Date'>], dtype=object)"
      ]
     },
     "execution_count": 596,
     "metadata": {},
     "output_type": "execute_result"
    },
    {
     "data": {
      "image/png": "[encoded data removed]",
      "text/plain": [
       "<Figure size 800x600 with 1 Axes>"
      ]
     },
     "metadata": {},
     "output_type": "display_data"
    }
   ],
   "source": [
    "data.plot(figsize=(8, 6), subplots=True)"
   ]
  },
  {
   "cell_type": "markdown",
   "id": "dd94bad7",
   "metadata": {},
   "source": [
    "from the above, BTC-USD had its peak volatility in November/December of 2021 and fell sharply in November/December of 2022;theres bound to be an increse in volatility after this period"
   ]
  },
  {
   "cell_type": "markdown",
   "id": "7cb49769",
   "metadata": {},
   "source": [
    "calculating the annualized return"
   ]
  },
  {
   "cell_type": "code",
   "execution_count": 597,
   "id": "cecc0520",
   "metadata": {},
   "outputs": [
    {
     "name": "stdout",
     "output_type": "stream",
     "text": [
      "[*********************100%***********************]  1 of 1 completed\n"
     ]
    }
   ],
   "source": [
    "data = yf.download(\"BTC-USD\", start=\"2022-06-04\", end=\"2022-09-04\")"
   ]
  },
  {
   "cell_type": "code",
   "execution_count": 598,
   "id": "3b57ec24",
   "metadata": {},
   "outputs": [],
   "source": [
    "log_return = np.log(data['Adj Close'] / data['Adj Close'].shift(1))"
   ]
  },
  {
   "cell_type": "code",
   "execution_count": 599,
   "id": "946fa9cf",
   "metadata": {},
   "outputs": [
    {
     "name": "stdout",
     "output_type": "stream",
     "text": [
      "The annualised volatility is 70.21 %\n"
     ]
    }
   ],
   "source": [
    "vol = np.sqrt(365) * log_return.std()\n",
    "print('The annualised volatility is', round(vol*100,2), '%')"
   ]
  },
  {
   "cell_type": "markdown",
   "id": "e991967f",
   "metadata": {},
   "source": [
    "designing the derivative"
   ]
  },
  {
   "cell_type": "markdown",
   "id": "d0c4fe70",
   "metadata": {},
   "source": [
    "a. Design a derivative and its associated pricing value using at least two methods which must be different."
   ]
  },
  {
   "cell_type": "markdown",
   "id": "140f46ec",
   "metadata": {},
   "source": [
    "Designing the vanilla derivative using the first model:\n",
    "# Black Scholes method"
   ]
  },
  {
   "cell_type": "code",
   "execution_count": 600,
   "id": "5f2fe8ec",
   "metadata": {},
   "outputs": [],
   "source": [
    "import numpy as np\n",
    "import pandas as pd\n",
    "import matplotlib.pyplot as plt\n",
    "import scipy.stats as si\n",
    "import yfinance as yf"
   ]
  },
  {
   "cell_type": "code",
   "execution_count": 601,
   "id": "7739357a",
   "metadata": {},
   "outputs": [],
   "source": [
    "def euro_option_bs(S, K, T, r, vol, payoff):\n",
    "    \n",
    "    \n",
    "    d1 = (np.log(S / K) + (r + 0.5 * vol ** 2) * T) / (vol * np.sqrt(T))\n",
    "    d2 = (np.log(S / K) + (r - 0.5 * vol ** 2) * T) / (vol * np.sqrt(T))\n",
    "    if payoff == \"call\":\n",
    "        option_value = - S * si.norm.cdf(-d1, 0.0, 1.0) + K * np.exp(-r * T) * si.norm.cdf(-d2, 0.0, 1.0)\n",
    "    \n",
    "    return option_value"
   ]
  },
  {
   "cell_type": "markdown",
   "id": "acc7a676",
   "metadata": {},
   "source": [
    "where S= spot price, k=strike price, T= time to maturity, r=interest rate, vol= volatility"
   ]
  },
  {
   "cell_type": "code",
   "execution_count": 632,
   "id": "da1cf4c1",
   "metadata": {},
   "outputs": [],
   "source": [
    "s = 18699\n",
    "K = 19154\n",
    "T = 0.25   # 3 months june - sep\n",
    "r = 0.04\n",
    "q = 0\n",
    "v = 0.7"
   ]
  },
  {
   "cell_type": "code",
   "execution_count": 633,
   "id": "425986ae",
   "metadata": {
    "scrolled": true
   },
   "outputs": [
    {
     "data": {
      "text/plain": [
       "2758.259424607415"
      ]
     },
     "execution_count": 633,
     "metadata": {},
     "output_type": "execute_result"
    }
   ],
   "source": [
    "euro_option_bs(s, K, T, r, vol, 'call')"
   ]
  },
  {
   "cell_type": "code",
   "execution_count": null,
   "id": "c7dc9e34",
   "metadata": {},
   "outputs": [],
   "source": [
    "Designing the vanilla derivative using the first model:\n",
    "# monte Carlo Simulation"
   ]
  },
  {
   "cell_type": "code",
   "execution_count": 604,
   "id": "20d81bb4",
   "metadata": {},
   "outputs": [],
   "source": [
    "def mcs_simulation_np(p):\n",
    "    M = p\n",
    "    I = p\n",
    "    dt = T / M \n",
    "    S = np.zeros((M + 1, I))\n",
    "    S[0] = S0 \n",
    "    rn = np.random.standard_normal(S.shape) \n",
    "    for t in range(1, M + 1): \n",
    "        S[t] = S[t-1] * np.exp((r - sigma ** 2 / 2) * dt + sigma * np.sqrt(dt) * rn[t]) \n",
    "    return S"
   ]
  },
  {
   "cell_type": "code",
   "execution_count": 605,
   "id": "1d0c587e",
   "metadata": {},
   "outputs": [],
   "source": [
    "T = 0.25\n",
    "r = 0.04\n",
    "sigma = 0.7\n",
    "S0 =18699\n",
    "K = 19154"
   ]
  },
  {
   "cell_type": "code",
   "execution_count": 606,
   "id": "e4453b93",
   "metadata": {},
   "outputs": [],
   "source": [
    "S = mcs_simulation_np(100)"
   ]
  },
  {
   "cell_type": "code",
   "execution_count": 607,
   "id": "6257f182",
   "metadata": {},
   "outputs": [
    {
     "data": {
      "text/plain": [
       "array([[18699.        , 18276.14241655, 19172.02638447, ...,\n",
       "        28680.73710063, 29336.96954849, 28225.9368332 ],\n",
       "       [18699.        , 19058.88550151, 20072.24874851, ...,\n",
       "        35532.84426583, 34504.28131114, 35626.50328507],\n",
       "       [18699.        , 19950.99357142, 19540.91154997, ...,\n",
       "        23378.48641344, 22440.73234563, 22860.38518268],\n",
       "       ...,\n",
       "       [18699.        , 19122.89115157, 17870.49149624, ...,\n",
       "        22731.04300266, 23542.43064908, 24156.69123001],\n",
       "       [18699.        , 18584.98115954, 17947.37720241, ...,\n",
       "        33209.07335762, 34812.47494455, 36189.72464132],\n",
       "       [18699.        , 18074.04737494, 17659.42861689, ...,\n",
       "        20877.37603099, 19916.24902845, 19025.67327989]])"
      ]
     },
     "execution_count": 607,
     "metadata": {},
     "output_type": "execute_result"
    }
   ],
   "source": [
    "S = np.transpose(S)\n",
    "S\n"
   ]
  },
  {
   "cell_type": "code",
   "execution_count": 608,
   "id": "a372f9b6",
   "metadata": {},
   "outputs": [
    {
     "name": "stdout",
     "output_type": "stream",
     "text": [
      "European call 2496.5548527209858\n"
     ]
    }
   ],
   "source": [
    "c = np.mean(np.maximum(S[:,-1] - K,0))\n",
    "print('European call', str(c))"
   ]
  },
  {
   "cell_type": "markdown",
   "id": "d8c0f66c",
   "metadata": {},
   "source": [
    "# Greeks"
   ]
  },
  {
   "cell_type": "markdown",
   "id": "9cdfa601",
   "metadata": {},
   "source": [
    "1.DELTA\n",
    "Delta, ∆, measures the rate of change of the theoretical option value with respect to changes in the underlying asset's price. Delta is the first derivative of the value V of the option with respect to the underlying instrument's price S."
   ]
  },
  {
   "cell_type": "code",
   "execution_count": 609,
   "id": "049c5aec",
   "metadata": {},
   "outputs": [],
   "source": [
    "def delta(S, K, T, r, q, vol, payoff):\n",
    "    \n",
    "    d1 = (np.log(S / K) + (r - q + 0.5 * vol ** 2) * T) / (vol * np.sqrt(T))\n",
    "    if payoff == \"call\":\n",
    "        delta = np.exp(-q * T) * si.norm.cdf(d1, 0.0, 1.0)\n",
    "    elif payoff == \"put\":\n",
    "        delta =  - np.exp(-q * T) * si.norm.cdf(-d1, 0.0, 1.0)\n",
    "    \n",
    "    return delta\n",
    "\n"
   ]
  },
  {
   "cell_type": "code",
   "execution_count": 610,
   "id": "eaa69dc4",
   "metadata": {},
   "outputs": [
    {
     "data": {
      "text/plain": [
       "0.55364716060398"
      ]
     },
     "execution_count": 610,
     "metadata": {},
     "output_type": "execute_result"
    }
   ],
   "source": [
    "delta(18699, 19154, 0.25, 0.04, 0, 0.7, 'call')\n",
    "\n"
   ]
  },
  {
   "cell_type": "markdown",
   "id": "a5f7e580",
   "metadata": {},
   "source": [
    "if the underlying asset price decrease from 18,699 to 18698: call option value will reduce by $0.55 (dollars"
   ]
  },
  {
   "cell_type": "markdown",
   "id": "0f6e1ea1",
   "metadata": {},
   "source": [
    "fig 1.1"
   ]
  },
  {
   "cell_type": "code",
   "execution_count": 611,
   "id": "ec2affe1",
   "metadata": {
    "scrolled": true
   },
   "outputs": [],
   "source": [
    "S = np.linspace(50,150,11)\n",
    "Delta_Call = np.zeros((len(S),1))\n",
    "Delta_Put = np.zeros((len(S),1))\n",
    "for i in range(len(S)):\n",
    "    Delta_Call [i] = delta(S[i], 18699, 0.25, 0.04, 0, 0.7, 'call')"
   ]
  },
  {
   "cell_type": "code",
   "execution_count": 612,
   "id": "d32520dd",
   "metadata": {},
   "outputs": [
    {
     "data": {
      "text/plain": [
       "<matplotlib.legend.Legend at 0x7f80026cb040>"
      ]
     },
     "execution_count": 612,
     "metadata": {},
     "output_type": "execute_result"
    },
    {
     "data": {
      "image/png": "[encoded data removed]",
      "text/plain": [
       "<Figure size 640x480 with 1 Axes>"
      ]
     },
     "metadata": {},
     "output_type": "display_data"
    }
   ],
   "source": [
    "fig = plt.figure()\n",
    "plt.plot(S, Delta_Call, '-')\n",
    "plt.grid()\n",
    "plt.xlabel('crypto currency')\n",
    "plt.ylabel('Delta')\n",
    "plt.title('Delta')\n",
    "plt.legend(['Delta for Call'])\n"
   ]
  },
  {
   "cell_type": "markdown",
   "id": "7d3deaa7",
   "metadata": {},
   "source": [
    "## 2.GAMMA\n",
    "\n",
    "Gamma, Γ, measures the rate of change in the delta with respect to changes in the underlying price. Gamma is the second derivative of the value function with respect to the underlying price.\n",
    "\n"
   ]
  },
  {
   "cell_type": "code",
   "execution_count": 613,
   "id": "28a1afb7",
   "metadata": {},
   "outputs": [],
   "source": [
    "def gamma(S, K, T, r, q, vol, payoff):\n",
    "    \n",
    "    d1 = (np.log(S / K) + (r - q + 0.5 * vol ** 2) * T) / (vol * np.sqrt(T))\n",
    "    gamma = np.exp(- q * T) * si.norm.pdf(d1, 0.0, 1.0) / (vol * S * np.sqrt(T))\n",
    "    \n",
    "    return gamma\n",
    "\n",
    "\n"
   ]
  },
  {
   "cell_type": "code",
   "execution_count": 614,
   "id": "50844a63",
   "metadata": {},
   "outputs": [
    {
     "data": {
      "text/plain": [
       "6.0405027206724167e-05"
      ]
     },
     "execution_count": 614,
     "metadata": {},
     "output_type": "execute_result"
    }
   ],
   "source": [
    "gamma(18699, 19154, 0.25, 0.04, 0, 0.7, 'call')"
   ]
  },
  {
   "cell_type": "markdown",
   "id": "f4fb46c7",
   "metadata": {},
   "source": [
    "if the underlying asset price increase from 18699 to 18700 the call option for Delta will increase by 6.04"
   ]
  },
  {
   "cell_type": "markdown",
   "id": "693ed768",
   "metadata": {},
   "source": [
    "fig 1.2"
   ]
  },
  {
   "cell_type": "code",
   "execution_count": 615,
   "id": "b8c02a94",
   "metadata": {},
   "outputs": [],
   "source": [
    "S = np.linspace(50,150,11)\n",
    "Gamma = np.zeros((len(S),1))\n",
    "for i in range(len(S)):\n",
    "    Gamma [i] = gamma(S[i], 18699, 0.25, 0.04, 0, 0.7, 'call')\n"
   ]
  },
  {
   "cell_type": "code",
   "execution_count": 616,
   "id": "23612ecb",
   "metadata": {},
   "outputs": [
    {
     "data": {
      "text/plain": [
       "<matplotlib.legend.Legend at 0x7f8002fd2f70>"
      ]
     },
     "execution_count": 616,
     "metadata": {},
     "output_type": "execute_result"
    },
    {
     "data": {
      "image/png": "[encoded data removed]",
      "text/plain": [
       "<Figure size 640x480 with 1 Axes>"
      ]
     },
     "metadata": {},
     "output_type": "display_data"
    }
   ],
   "source": [
    "fig = plt.figure()\n",
    "plt.plot(S, Gamma, '-')\n",
    "plt.grid()\n",
    "plt.xlabel('crypto currency')\n",
    "plt.ylabel('Gamma')\n",
    "plt.title('Gamma')\n",
    "plt.legend(['Gamma for Call' ])\n"
   ]
  },
  {
   "cell_type": "markdown",
   "id": "1f9cd85d",
   "metadata": {},
   "source": [
    "## 3.SPEED\n",
    "Speed measures the rate of change in Gamma with respect to changes in the underlying price"
   ]
  },
  {
   "cell_type": "code",
   "execution_count": 617,
   "id": "e36ff3b3",
   "metadata": {},
   "outputs": [],
   "source": [
    "def speed(S, K, T, r, q, vol, payoff):\n",
    "    \n",
    "    d1 = (np.log(S / K) + (r - q + 0.5 * vol ** 2) * T) / (vol * np.sqrt(T))\n",
    "    speed = - np.exp(-q * T) * si.norm.pdf(d1, 0.0, 1.0) / ((vol **2) * (S**2) * np.sqrt(T)) * (d1 + vol * np.sqrt(T))\n",
    "    \n",
    "    return speed"
   ]
  },
  {
   "cell_type": "code",
   "execution_count": 618,
   "id": "fab23b87",
   "metadata": {},
   "outputs": [
    {
     "data": {
      "text/plain": [
       "-2.2376499613033007e-09"
      ]
     },
     "execution_count": 618,
     "metadata": {},
     "output_type": "execute_result"
    }
   ],
   "source": [
    "speed(18699, 19154, 0.25, 0.04, 0, 0.7, 'call')\n"
   ]
  },
  {
   "cell_type": "markdown",
   "id": "56bda27e",
   "metadata": {},
   "source": [
    "when the underlying asset price change from 18699 to 1868 then the gamma will decrease by 2.237"
   ]
  },
  {
   "cell_type": "markdown",
   "id": "c258af34",
   "metadata": {},
   "source": [
    "fig 1.3"
   ]
  },
  {
   "cell_type": "code",
   "execution_count": 619,
   "id": "004de41e",
   "metadata": {},
   "outputs": [],
   "source": [
    "S = np.linspace(50,150,11)\n",
    "Speed = np.zeros((len(S),1))\n",
    "for i in range(len(S)):\n",
    "    Speed [i] = speed(S[i], 18699, 19154, 0.25, 0.04, 0.7, 'call')\n"
   ]
  },
  {
   "cell_type": "code",
   "execution_count": 620,
   "id": "6b9390f2",
   "metadata": {},
   "outputs": [
    {
     "data": {
      "text/plain": [
       "<matplotlib.legend.Legend at 0x7f80030ab520>"
      ]
     },
     "execution_count": 620,
     "metadata": {},
     "output_type": "execute_result"
    },
    {
     "data": {
      "image/png": "[encoded data removed]",
      "text/plain": [
       "<Figure size 640x480 with 1 Axes>"
      ]
     },
     "metadata": {},
     "output_type": "display_data"
    }
   ],
   "source": [
    "fig = plt.figure()\n",
    "plt.plot(S, Speed, '-')\n",
    "plt.grid()\n",
    "plt.xlabel('crypto currency')\n",
    "plt.ylabel('Speed')\n",
    "plt.title('Speed')\n",
    "plt.legend(['Speed for Call'])"
   ]
  },
  {
   "cell_type": "markdown",
   "id": "d01e3c31",
   "metadata": {},
   "source": [
    "## 4.theta"
   ]
  },
  {
   "cell_type": "code",
   "execution_count": null,
   "id": "58e329df",
   "metadata": {},
   "outputs": [],
   "source": []
  },
  {
   "cell_type": "markdown",
   "id": "8fa42aaa",
   "metadata": {},
   "source": [
    "Theta, 𝜃, measures the sensitivity of the value of the derivative to the passage of time (see Option time value): \n",
    "the \"time decay\""
   ]
  },
  {
   "cell_type": "code",
   "execution_count": 621,
   "id": "2d1bea4f",
   "metadata": {},
   "outputs": [],
   "source": [
    "def theta(S, K, T, r, q, vol, payoff):\n",
    "    \n",
    "    d1 = (np.log(S / K) + (r - q + 0.5 * vol ** 2) * T) / (vol * np.sqrt(T))\n",
    "    d2 = (np.log(S / K) + (r - q - 0.5 * vol ** 2) * T) / (vol * np.sqrt(T))\n",
    "    if payoff == \"call\":\n",
    "        theta = vol * S * np.exp(-q * T) * si.norm.pdf(d1, 0.0, 1.0) / (2 * np.sqrt(T)) - q * S * np.exp(-q * T) * si.norm.cdf(d1, 0.0, 1.0) + r * K * np.exp(-r * T) * si.norm.cdf(d2, 0.0, 1.0)\n",
    "    elif payoff == \"put\":\n",
    "        theta = vol * S * np.exp(-q * T) * si.norm.pdf(-d1, 0.0, 1.0) / (2 * np.sqrt(T)) + q * S * np.exp(-q * T) * si.norm.cdf(-d1, 0.0, 1.0) - r * K * np.exp(-r * T) * si.norm.cdf(-d2, 0.0, 1.0)\n",
    "    \n",
    "    return theta\n"
   ]
  },
  {
   "cell_type": "code",
   "execution_count": 622,
   "id": "fbd8a94b",
   "metadata": {},
   "outputs": [
    {
     "data": {
      "text/plain": [
       "5489.25919524196"
      ]
     },
     "execution_count": 622,
     "metadata": {},
     "output_type": "execute_result"
    }
   ],
   "source": [
    "theta(18699, 19154, 0.25, 0.04, 0, 0.7, 'call')"
   ]
  },
  {
   "cell_type": "markdown",
   "id": "dc42130f",
   "metadata": {},
   "source": [
    "when there is an increase in time then call option value will increase by $1372."
   ]
  },
  {
   "cell_type": "markdown",
   "id": "4561eafc",
   "metadata": {},
   "source": [
    "fig 1.4"
   ]
  },
  {
   "cell_type": "code",
   "execution_count": 623,
   "id": "bca0b9a5",
   "metadata": {},
   "outputs": [],
   "source": [
    "T = np.linspace(0.25,3,12)\n",
    "Theta_Call = np.zeros((len(T),1))\n",
    "Theta_Put = np.zeros((len(T),1))\n",
    "for i in range(len(T)):\n",
    "    Theta_Call [i] = theta(18699, 19154, 0.25, 0.04, 0, 0.7, 'call')"
   ]
  },
  {
   "cell_type": "code",
   "execution_count": 624,
   "id": "e8a6f067",
   "metadata": {},
   "outputs": [
    {
     "data": {
      "text/plain": [
       "<matplotlib.legend.Legend at 0x7f80030ff9a0>"
      ]
     },
     "execution_count": 624,
     "metadata": {},
     "output_type": "execute_result"
    },
    {
     "data": {
      "image/png": "[encoded data removed]",
      "text/plain": [
       "<Figure size 640x480 with 1 Axes>"
      ]
     },
     "metadata": {},
     "output_type": "display_data"
    }
   ],
   "source": [
    "fig = plt.figure()\n",
    "plt.plot(T, Theta_Call, '-')\n",
    "plt.grid()\n",
    "plt.xlabel('Time to Expiry')\n",
    "plt.ylabel('Theta')\n",
    "plt.title('Theta')\n",
    "plt.legend(['Theta for Call' ])"
   ]
  },
  {
   "cell_type": "markdown",
   "id": "8b202fa5",
   "metadata": {},
   "source": [
    "RHO\n"
   ]
  },
  {
   "cell_type": "markdown",
   "id": "c72aa149",
   "metadata": {},
   "source": [
    "fig 1.5"
   ]
  },
  {
   "cell_type": "code",
   "execution_count": 625,
   "id": "addeacab",
   "metadata": {},
   "outputs": [],
   "source": [
    "def rho(S, K, T, r, q, vol, payoff):\n",
    "    \n",
    "    d1 = (np.log(S / K) + (r - q + 0.5 * vol ** 2) * T) / (vol * np.sqrt(T))\n",
    "    d2 = (np.log(S / K) + (r - q - 0.5 * vol ** 2) * T) / (vol * np.sqrt(T))\n",
    "    if payoff == \"call\":\n",
    "        rho =  K * T * np.exp(-r * T) * si.norm.cdf(d2, 0.0, 1.0)\n",
    "    elif payoff == \"put\":\n",
    "        rho = - K * T * np.exp(-r * T) * si.norm.cdf(-d2, 0.0, 1.0)\n",
    "    \n",
    "    return rho"
   ]
  },
  {
   "cell_type": "code",
   "execution_count": 626,
   "id": "4c2a088b",
   "metadata": {},
   "outputs": [
    {
     "data": {
      "text/plain": [
       "1966.6834409173605"
      ]
     },
     "execution_count": 626,
     "metadata": {},
     "output_type": "execute_result"
    }
   ],
   "source": [
    "rho(18699, 19154, 0.25, 0.04, 0, 0.7, 'call')\n",
    "\n"
   ]
  },
  {
   "cell_type": "code",
   "execution_count": null,
   "id": "67cc5eeb",
   "metadata": {},
   "outputs": [],
   "source": [
    "if the interest rate increase by 1% then call price will increase by $19.67"
   ]
  },
  {
   "cell_type": "code",
   "execution_count": 628,
   "id": "71879261",
   "metadata": {},
   "outputs": [],
   "source": [
    "r = np.linspace(0,0.1,11)\n",
    "Rho_Call = np.zeros((len(r),1))\n",
    "Rho_Put = np.zeros((len(r),1))\n",
    "for i in range(len(r)):\n",
    "    Rho_Call [i] = rho(18699, 19154, 0.25, 0.04, 0, 0.7, 'call')"
   ]
  },
  {
   "cell_type": "code",
   "execution_count": 629,
   "id": "786d2180",
   "metadata": {},
   "outputs": [
    {
     "data": {
      "text/plain": [
       "<matplotlib.legend.Legend at 0x7f8003198ac0>"
      ]
     },
     "execution_count": 629,
     "metadata": {},
     "output_type": "execute_result"
    },
    {
     "data": {
      "image/png": "[encoded data removed]",
      "text/plain": [
       "<Figure size 640x480 with 1 Axes>"
      ]
     },
     "metadata": {},
     "output_type": "display_data"
    }
   ],
   "source": [
    "fig = plt.figure()\n",
    "plt.plot(r, Rho_Call, '-')\n",
    "\n",
    "plt.grid()\n",
    "plt.xlabel('Interest Rate')\n",
    "plt.ylabel('Rho')\n",
    "plt.title('Rho')\n",
    "plt.legend(['Rho for Call', ])"
   ]
  },
  {
   "cell_type": "markdown",
   "id": "57415e00",
   "metadata": {},
   "source": []
  }
 ],
 "metadata": {
  "kernelspec": {
   "display_name": "Python 3 (ipykernel)",
   "language": "python",
   "name": "python3"
  },
  "language_info": {
   "codemirror_mode": {
    "name": "ipython",
    "version": 3
   },
   "file_extension": ".py",
   "mimetype": "text/x-python",
   "name": "python",
   "nbconvert_exporter": "python",
   "pygments_lexer": "ipython3",
   "version": "3.9.13"
  }
 },
 "nbformat": 4,
 "nbformat_minor": 5
}
